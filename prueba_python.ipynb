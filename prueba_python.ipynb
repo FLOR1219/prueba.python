{
  "nbformat": 4,
  "nbformat_minor": 0,
  "metadata": {
    "colab": {
      "name": "prueba-python.ipynb",
      "provenance": [],
      "authorship_tag": "ABX9TyOeNG9L47TDFo8jusTCN/Bm",
      "include_colab_link": true
    },
    "kernelspec": {
      "name": "python3",
      "display_name": "Python 3"
    },
    "language_info": {
      "name": "python"
    }
  },
  "cells": [
    {
      "cell_type": "markdown",
      "metadata": {
        "id": "view-in-github",
        "colab_type": "text"
      },
      "source": [
        "<a href=\"https://colab.research.google.com/github/FLOR1219/prueba.python/blob/main/prueba_python.ipynb\" target=\"_parent\"><img src=\"https://colab.research.google.com/assets/colab-badge.svg\" alt=\"Open In Colab\"/></a>"
      ]
    },
    {
      "cell_type": "code",
      "execution_count": 1,
      "metadata": {
        "colab": {
          "base_uri": "https://localhost:8080/"
        },
        "id": "fmByhndfkBNZ",
        "outputId": "f590f6c6-f23c-4e94-f057-0ec892c6c84c"
      },
      "outputs": [
        {
          "output_type": "stream",
          "name": "stdout",
          "text": [
            "hello world\n"
          ]
        }
      ],
      "source": [
        "print(\"hello world\")"
      ]
    },
    {
      "cell_type": "code",
      "source": [
        "n1 = float (input(\"ingrese primer número: \"))"
      ],
      "metadata": {
        "colab": {
          "base_uri": "https://localhost:8080/"
        },
        "id": "WCJTpJYmlLsv",
        "outputId": "11606e89-f0ef-4ff9-ed53-cf019a35a99f"
      },
      "execution_count": 15,
      "outputs": [
        {
          "name": "stdout",
          "output_type": "stream",
          "text": [
            "ingrese primer número: 75.578\n"
          ]
        }
      ]
    },
    {
      "cell_type": "code",
      "source": [
        "n2 = float (input(\"ingrese segundo número: \"))"
      ],
      "metadata": {
        "colab": {
          "base_uri": "https://localhost:8080/"
        },
        "id": "EkonwRmklphg",
        "outputId": "d72286b9-36a7-4568-eff4-1718124f6ef4"
      },
      "execution_count": 14,
      "outputs": [
        {
          "name": "stdout",
          "output_type": "stream",
          "text": [
            "ingrese segundo número: 35.8\n"
          ]
        }
      ]
    },
    {
      "cell_type": "code",
      "source": [
        "total = n1 + n2\n",
        "print (total)"
      ],
      "metadata": {
        "colab": {
          "base_uri": "https://localhost:8080/"
        },
        "id": "u3woLTDpuR8L",
        "outputId": "2cad3c08-43b5-4ec8-be6c-01fd9eb7ac23"
      },
      "execution_count": 16,
      "outputs": [
        {
          "output_type": "stream",
          "name": "stdout",
          "text": [
            "111.378\n"
          ]
        }
      ]
    },
    {
      "cell_type": "markdown",
      "source": [
        "int--> n enteros  float-->n decimales\n"
      ],
      "metadata": {
        "id": "LHF3jCFHw05w"
      }
    },
    {
      "cell_type": "code",
      "source": [
        "miVariable = 5\n",
        "print(miVariable)\n",
        "print(miVariable)\n",
        "print(miVariable)"
      ],
      "metadata": {
        "colab": {
          "base_uri": "https://localhost:8080/"
        },
        "id": "Xl9tL3f7w9L8",
        "outputId": "93a8c841-361d-409a-bfbb-e77985032317"
      },
      "execution_count": 22,
      "outputs": [
        {
          "output_type": "stream",
          "name": "stdout",
          "text": [
            "5\n",
            "5\n",
            "5\n"
          ]
        }
      ]
    },
    {
      "cell_type": "code",
      "source": [
        "x = 4\n",
        "y= 8\n",
        "z = 5\n",
        "print (x)\n",
        "print (y)\n",
        "print(z)"
      ],
      "metadata": {
        "colab": {
          "base_uri": "https://localhost:8080/"
        },
        "id": "J4ueLphy4FMl",
        "outputId": "9527cb03-dfc4-4f61-fbf0-0ad9a1e13339"
      },
      "execution_count": 23,
      "outputs": [
        {
          "output_type": "stream",
          "name": "stdout",
          "text": [
            "4\n",
            "8\n",
            "5\n"
          ]
        }
      ]
    },
    {
      "cell_type": "code",
      "source": [
        "x = '5'\n",
        "print(x)\n",
        "print(type(x))"
      ],
      "metadata": {
        "colab": {
          "base_uri": "https://localhost:8080/"
        },
        "id": "fUuLBDXt6suA",
        "outputId": "07fb8b85-d8ce-48af-9f11-5b072a09bf13"
      },
      "execution_count": 25,
      "outputs": [
        {
          "output_type": "stream",
          "name": "stdout",
          "text": [
            "5\n",
            "<class 'str'>\n"
          ]
        }
      ]
    },
    {
      "cell_type": "markdown",
      "source": [
        "con comilla da valor string (letras) sino da valor integer(números)"
      ],
      "metadata": {
        "id": "Qi-N4Xwk7bhW"
      }
    },
    {
      "cell_type": "code",
      "source": [
        "x = '5'\n",
        "y= \"a\"\n",
        "z = x+y\n",
        "print(z)\n",
        "print (type(x))"
      ],
      "metadata": {
        "colab": {
          "base_uri": "https://localhost:8080/"
        },
        "id": "lwwTOlIg7iCm",
        "outputId": "45079006-fd79-4d56-d80e-192f8b92ade2"
      },
      "execution_count": 29,
      "outputs": [
        {
          "output_type": "stream",
          "name": "stdout",
          "text": [
            "5a\n",
            "<class 'str'>\n"
          ]
        }
      ]
    },
    {
      "cell_type": "code",
      "source": [
        "3== \"3\""
      ],
      "metadata": {
        "colab": {
          "base_uri": "https://localhost:8080/"
        },
        "id": "Sy_UKMUU9zzY",
        "outputId": "fe2e73a3-647c-4e04-ab5c-ac2bb33669e5"
      },
      "execution_count": 32,
      "outputs": [
        {
          "output_type": "execute_result",
          "data": {
            "text/plain": [
              "False"
            ]
          },
          "metadata": {},
          "execution_count": 32
        }
      ]
    },
    {
      "cell_type": "code",
      "source": [
        "3==3"
      ],
      "metadata": {
        "colab": {
          "base_uri": "https://localhost:8080/"
        },
        "id": "aX323k4_-X7M",
        "outputId": "37e7ec90-1904-4f95-d2ae-ee3a40ece69e"
      },
      "execution_count": 33,
      "outputs": [
        {
          "output_type": "execute_result",
          "data": {
            "text/plain": [
              "True"
            ]
          },
          "metadata": {},
          "execution_count": 33
        }
      ]
    },
    {
      "cell_type": "markdown",
      "source": [
        "\"==\" compara los datos los cuales han de ser iguales, no mayusculas, no otra palabra con mismo nº de letra sino sera false"
      ],
      "metadata": {
        "id": "TkgbOq9L_EmQ"
      }
    }
  ]
}