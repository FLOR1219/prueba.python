{
  "nbformat": 4,
  "nbformat_minor": 0,
  "metadata": {
    "colab": {
      "name": "prueba-python.ipynb",
      "provenance": [],
      "authorship_tag": "ABX9TyOET+GNB2+a+esHod1BtuBD",
      "include_colab_link": true
    },
    "kernelspec": {
      "name": "python3",
      "display_name": "Python 3"
    },
    "language_info": {
      "name": "python"
    }
  },
  "cells": [
    {
      "cell_type": "markdown",
      "metadata": {
        "id": "view-in-github",
        "colab_type": "text"
      },
      "source": [
        "<a href=\"https://colab.research.google.com/github/FLOR1219/prueba.python/blob/main/prueba_python.ipynb\" target=\"_parent\"><img src=\"https://colab.research.google.com/assets/colab-badge.svg\" alt=\"Open In Colab\"/></a>"
      ]
    },
    {
      "cell_type": "code",
      "execution_count": 1,
      "metadata": {
        "colab": {
          "base_uri": "https://localhost:8080/"
        },
        "id": "fmByhndfkBNZ",
        "outputId": "f590f6c6-f23c-4e94-f057-0ec892c6c84c"
      },
      "outputs": [
        {
          "output_type": "stream",
          "name": "stdout",
          "text": [
            "hello world\n"
          ]
        }
      ],
      "source": [
        "print(\"hello world\")"
      ]
    },
    {
      "cell_type": "code",
      "source": [
        "n1 = float (input(\"ingrese primer número: \"))"
      ],
      "metadata": {
        "colab": {
          "base_uri": "https://localhost:8080/"
        },
        "id": "WCJTpJYmlLsv",
        "outputId": "11606e89-f0ef-4ff9-ed53-cf019a35a99f"
      },
      "execution_count": 15,
      "outputs": [
        {
          "name": "stdout",
          "output_type": "stream",
          "text": [
            "ingrese primer número: 75.578\n"
          ]
        }
      ]
    },
    {
      "cell_type": "code",
      "source": [
        "n2 = float (input(\"ingrese segundo número: \"))"
      ],
      "metadata": {
        "colab": {
          "base_uri": "https://localhost:8080/"
        },
        "id": "EkonwRmklphg",
        "outputId": "d72286b9-36a7-4568-eff4-1718124f6ef4"
      },
      "execution_count": 14,
      "outputs": [
        {
          "name": "stdout",
          "output_type": "stream",
          "text": [
            "ingrese segundo número: 35.8\n"
          ]
        }
      ]
    },
    {
      "cell_type": "code",
      "source": [
        "total = n1 + n2\n",
        "print (total)"
      ],
      "metadata": {
        "colab": {
          "base_uri": "https://localhost:8080/"
        },
        "id": "u3woLTDpuR8L",
        "outputId": "2cad3c08-43b5-4ec8-be6c-01fd9eb7ac23"
      },
      "execution_count": 16,
      "outputs": [
        {
          "output_type": "stream",
          "name": "stdout",
          "text": [
            "111.378\n"
          ]
        }
      ]
    },
    {
      "cell_type": "markdown",
      "source": [
        "int--> n enteros  float-->n decimales\n"
      ],
      "metadata": {
        "id": "LHF3jCFHw05w"
      }
    },
    {
      "cell_type": "code",
      "source": [
        "miVariable = 5\n",
        "print(miVariable)\n",
        "print(miVariable)\n",
        "print(miVariable)"
      ],
      "metadata": {
        "colab": {
          "base_uri": "https://localhost:8080/"
        },
        "id": "Xl9tL3f7w9L8",
        "outputId": "93a8c841-361d-409a-bfbb-e77985032317"
      },
      "execution_count": 22,
      "outputs": [
        {
          "output_type": "stream",
          "name": "stdout",
          "text": [
            "5\n",
            "5\n",
            "5\n"
          ]
        }
      ]
    },
    {
      "cell_type": "code",
      "source": [
        "x = 4\n",
        "y= 8\n",
        "z = 5\n",
        "print (x)\n",
        "print (y)\n",
        "print(z)"
      ],
      "metadata": {
        "colab": {
          "base_uri": "https://localhost:8080/"
        },
        "id": "J4ueLphy4FMl",
        "outputId": "9527cb03-dfc4-4f61-fbf0-0ad9a1e13339"
      },
      "execution_count": 23,
      "outputs": [
        {
          "output_type": "stream",
          "name": "stdout",
          "text": [
            "4\n",
            "8\n",
            "5\n"
          ]
        }
      ]
    }
  ]
}