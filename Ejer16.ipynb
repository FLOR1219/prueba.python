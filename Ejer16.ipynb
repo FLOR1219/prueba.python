{
  "nbformat": 4,
  "nbformat_minor": 0,
  "metadata": {
    "colab": {
      "name": "Ejer16.ipynb",
      "provenance": [],
      "collapsed_sections": [],
      "authorship_tag": "ABX9TyNfQOZWccJZj97jf7Vjr2IZ",
      "include_colab_link": true
    },
    "kernelspec": {
      "name": "python3",
      "display_name": "Python 3"
    },
    "language_info": {
      "name": "python"
    }
  },
  "cells": [
    {
      "cell_type": "markdown",
      "metadata": {
        "id": "view-in-github",
        "colab_type": "text"
      },
      "source": [
        "<a href=\"https://colab.research.google.com/github/FLOR1219/prueba.python/blob/main/Ejer16.ipynb\" target=\"_parent\"><img src=\"https://colab.research.google.com/assets/colab-badge.svg\" alt=\"Open In Colab\"/></a>"
      ]
    },
    {
      "cell_type": "code",
      "execution_count": null,
      "metadata": {
        "colab": {
          "base_uri": "https://localhost:8080/"
        },
        "id": "wIn3YHGqfDju",
        "outputId": "4ada5316-e69c-4a16-a9ad-8bc403ea9f7d"
      },
      "outputs": [
        {
          "output_type": "stream",
          "name": "stdout",
          "text": [
            "ingrese true or false:false\n",
            "false\n"
          ]
        }
      ],
      "source": [
        "x = bool(input(\"ingrese true or false:\"))\n",
        "\n",
        "if x == \"true\": \n",
        "  print(\"true\")\n",
        "else:\n",
        "  print(\"false\") "
      ]
    },
    {
      "cell_type": "code",
      "source": [
        "x =input(\"ingrese true or false:\")\n",
        "\n",
        "if x == \"true\": \n",
        "  print(\"true\")\n",
        "elif x == \"false\":\n",
        "  print(\"false\")\n",
        "else:\n",
        "  print(\"not found\") "
      ],
      "metadata": {
        "colab": {
          "base_uri": "https://localhost:8080/"
        },
        "id": "z72v9qpghZfu",
        "outputId": "686acf6a-2394-49f4-9b0b-43b955718437"
      },
      "execution_count": null,
      "outputs": [
        {
          "output_type": "stream",
          "name": "stdout",
          "text": [
            "ingrese true or false: jhjh\n",
            "not found\n"
          ]
        }
      ]
    },
    {
      "cell_type": "code",
      "source": [
        "x =int(input(\" 1 o 2:\"))\n",
        "\n",
        "if x == 1 or x == 2: \n",
        "  print(\"true\")\n",
        "elif x == \"false\":\n",
        "  print(\"false\")\n",
        "else:\n",
        "  print(\"not found\") "
      ],
      "metadata": {
        "colab": {
          "base_uri": "https://localhost:8080/"
        },
        "id": "kL1Wyen1klIG",
        "outputId": "9e56ff99-4508-4f9d-9d08-ad48a52f1ad0"
      },
      "execution_count": null,
      "outputs": [
        {
          "output_type": "stream",
          "name": "stdout",
          "text": [
            " 1 o 2:1\n",
            "true\n"
          ]
        }
      ]
    },
    {
      "cell_type": "code",
      "source": [
        "num = 2\n",
        "while num < 150: \n",
        "  num = num * 3\n",
        "  print (num)"
      ],
      "metadata": {
        "colab": {
          "base_uri": "https://localhost:8080/"
        },
        "id": "s7kVunyNn0v6",
        "outputId": "9397db29-8842-4c5b-cb2e-4371a485edbf"
      },
      "execution_count": null,
      "outputs": [
        {
          "output_type": "stream",
          "name": "stdout",
          "text": [
            "6\n",
            "18\n",
            "54\n",
            "162\n"
          ]
        }
      ]
    },
    {
      "cell_type": "markdown",
      "source": [
        " **EJERCICIO 1** \n",
        "\n",
        "\n",
        "\n"
      ],
      "metadata": {
        "id": "vAluSbqysDgY"
      }
    },
    {
      "cell_type": "code",
      "source": [
        "x = int(input(\" calificación: \"))\n",
        "if x >= 9 and x <= 10:\n",
        "  print(\"A\")\n",
        "elif x >= 8 and x < 9:\n",
        "  print(\"B\")\n",
        "elif x >= 7 and x < 8 :\n",
        "  print(\"C\")\n",
        "elif x >= 6 and x < 7 :\n",
        "  print(\"D\")\n",
        "elif x >= 5 and x < 6 :\n",
        "  print(\"E\")\n",
        "elif x >= 0 and x <= 5 :\n",
        "  print(\"F\")\n",
        "else:\n",
        "  print(\"unknown\")\n"
      ],
      "metadata": {
        "colab": {
          "base_uri": "https://localhost:8080/"
        },
        "id": "zcx7uqrAsNu2",
        "outputId": "70633a83-f927-4d87-8829-a17bd65246e2"
      },
      "execution_count": null,
      "outputs": [
        {
          "output_type": "stream",
          "name": "stdout",
          "text": [
            " calificación: 3\n",
            "F\n"
          ]
        }
      ]
    },
    {
      "cell_type": "markdown",
      "source": [
        "**EJERCICIO 2**"
      ],
      "metadata": {
        "id": "clUxKjf_--43"
      }
    },
    {
      "cell_type": "code",
      "source": [
        "num = 0\n",
        "while num >= 0 and num <5:\n",
        "  num = num + 1\n",
        "  print(num)\n"
      ],
      "metadata": {
        "colab": {
          "base_uri": "https://localhost:8080/"
        },
        "id": "h_Pycxny_FWu",
        "outputId": "eaf72843-c5cc-4d8c-8e39-94b6be8e88c2"
      },
      "execution_count": null,
      "outputs": [
        {
          "output_type": "stream",
          "name": "stdout",
          "text": [
            "1\n",
            "2\n",
            "3\n",
            "4\n",
            "5\n"
          ]
        }
      ]
    },
    {
      "cell_type": "markdown",
      "source": [
        "**CICLO FOR** (listas)\n"
      ],
      "metadata": {
        "id": "B_A2n8JcLTOI"
      }
    },
    {
      "cell_type": "code",
      "source": [
        "string = \"hola\"\n",
        "for p in string:\n",
        "  print (p)\n",
        "else:\n",
        "  print ( \"end of for cicle\")"
      ],
      "metadata": {
        "colab": {
          "base_uri": "https://localhost:8080/"
        },
        "id": "fGkQy9LfLWgk",
        "outputId": "8f4cc169-d63f-4b40-bf4c-868dfdc3a00f"
      },
      "execution_count": null,
      "outputs": [
        {
          "output_type": "stream",
          "name": "stdout",
          "text": [
            "h\n",
            "o\n",
            "l\n",
            "a\n",
            "end of for cicle\n"
          ]
        }
      ]
    },
    {
      "cell_type": "code",
      "source": [
        "for i in \"Holanda\":\n",
        "  if i ==\"a\":\n",
        "    print (f\"found letter: {i}\")\n",
        "    break\n",
        "else:\n",
        "  print (\"end of cicle\")"
      ],
      "metadata": {
        "colab": {
          "base_uri": "https://localhost:8080/"
        },
        "id": "74jsN60IL9Xg",
        "outputId": "fe48baac-068b-4650-aa86-e13fc1134873"
      },
      "execution_count": null,
      "outputs": [
        {
          "output_type": "stream",
          "name": "stdout",
          "text": [
            "found letter: a\n"
          ]
        }
      ]
    },
    {
      "cell_type": "markdown",
      "source": [
        "uso de break para que no se repita x num de letras encontradas (ciclo)\n",
        "f enmarca para que salga el valor de i y no la letra i"
      ],
      "metadata": {
        "id": "GGLP7aMxNG2w"
      }
    },
    {
      "cell_type": "code",
      "source": [
        "for i in range (15):\n",
        "  if i % 2 == 0:\n",
        "    continue\n",
        "    \n",
        "  print(f\"found letter: {i}\")"
      ],
      "metadata": {
        "colab": {
          "base_uri": "https://localhost:8080/"
        },
        "id": "S335rybfOSzc",
        "outputId": "48d15a3f-ae77-4b95-fffc-6b2e77b1ccf6"
      },
      "execution_count": null,
      "outputs": [
        {
          "output_type": "stream",
          "name": "stdout",
          "text": [
            "found letter: 1\n",
            "found letter: 3\n",
            "found letter: 5\n",
            "found letter: 7\n",
            "found letter: 9\n",
            "found letter: 11\n",
            "found letter: 13\n"
          ]
        }
      ]
    },
    {
      "cell_type": "markdown",
      "source": [
        "\n",
        "<br>% 2 ! = 0  buscara divisores que den 0 como resto (división exacta)\n",
        "<br>/== buscara divisores con resto distinto de 0 (división entera).\n",
        "<br>continue excluye todos los dividendos pares y los busca con resto."
      ],
      "metadata": {
        "id": "O1hlsw8xP4cc"
      }
    },
    {
      "cell_type": "markdown",
      "source": [
        "**EJERCICIO 3**"
      ],
      "metadata": {
        "id": "1EF2CxI7pBQN"
      }
    },
    {
      "cell_type": "code",
      "source": [
        "for s in range (10):\n",
        "  if s % 3 != 0:\n",
        "    continue\n",
        "  print(f\"num divisibles: {s}\")\n",
        "\n",
        "\n"
      ],
      "metadata": {
        "colab": {
          "base_uri": "https://localhost:8080/"
        },
        "id": "HjHFEvJNoCMZ",
        "outputId": "64a15c47-b418-4193-a53e-b71283178f32"
      },
      "execution_count": null,
      "outputs": [
        {
          "output_type": "stream",
          "name": "stdout",
          "text": [
            "num divisibles: 0\n",
            "num divisibles: 3\n",
            "num divisibles: 6\n",
            "num divisibles: 9\n"
          ]
        }
      ]
    },
    {
      "cell_type": "code",
      "source": [
        "for l in range (2, 7):\n",
        "  if l % 1 != 0:\n",
        "    continue\n",
        "  print(f\"num divisibles: {l}\")"
      ],
      "metadata": {
        "colab": {
          "base_uri": "https://localhost:8080/"
        },
        "id": "RfhIVtwBre1J",
        "outputId": "c3c58d1f-340c-4bf4-d308-43d782a97f1f"
      },
      "execution_count": null,
      "outputs": [
        {
          "output_type": "stream",
          "name": "stdout",
          "text": [
            "num divisibles: 2\n",
            "num divisibles: 3\n",
            "num divisibles: 4\n",
            "num divisibles: 5\n",
            "num divisibles: 6\n"
          ]
        }
      ]
    },
    {
      "cell_type": "code",
      "source": [
        "for m in range (3, 10, 2):\n",
        "  #if m % 1 != 0:\n",
        "    #continue\n",
        "  print(f\"num divisibles: {m}\")"
      ],
      "metadata": {
        "colab": {
          "base_uri": "https://localhost:8080/"
        },
        "id": "dYX4I6VZsEHu",
        "outputId": "b69e5226-096f-411c-a818-43de2ce3257f"
      },
      "execution_count": null,
      "outputs": [
        {
          "output_type": "stream",
          "name": "stdout",
          "text": [
            "num divisibles: 3\n",
            "num divisibles: 5\n",
            "num divisibles: 7\n",
            "num divisibles: 9\n"
          ]
        }
      ]
    },
    {
      "cell_type": "markdown",
      "source": [
        "<br> -----------------------------------------\n",
        "<br>------------------------------------------"
      ],
      "metadata": {
        "id": "Zb6Nn8aJxnPP"
      }
    },
    {
      "cell_type": "code",
      "source": [
        "i= 0\n",
        "while i< 6:\n",
        "  i +=1\n",
        "  if i ==3:\n",
        "    continue\n",
        "  print(i)"
      ],
      "metadata": {
        "colab": {
          "base_uri": "https://localhost:8080/"
        },
        "id": "7zH5vAZffrTb",
        "outputId": "4ea02b6a-2e50-4dd5-9b60-8d86414deed7"
      },
      "execution_count": null,
      "outputs": [
        {
          "output_type": "stream",
          "name": "stdout",
          "text": [
            "1\n",
            "2\n",
            "4\n",
            "5\n",
            "6\n"
          ]
        }
      ]
    },
    {
      "cell_type": "markdown",
      "source": [
        "**TUPLAS**\n",
        "<br>0,1,2,3\n",
        "<br>:3 todos menos el 3ro\n",
        "<br>1: todos a partir del 1 incluido\n",
        "<br>1:3 imprime 1 y 2"
      ],
      "metadata": {
        "id": "W3vILQpFkLn2"
      }
    },
    {
      "cell_type": "code",
      "source": [
        "tupla = (13,1,8,3,2,5,8)\n",
        "newlist= []\n",
        "for d in tupla:\n",
        "  if d <5:\n",
        "    newlist.append(d)\n",
        "print(newlist)\n",
        "\n"
      ],
      "metadata": {
        "colab": {
          "base_uri": "https://localhost:8080/"
        },
        "id": "QHo4-lmEtYMT",
        "outputId": "9dce07f9-5b66-451e-b316-a6518cf3ffbf"
      },
      "execution_count": null,
      "outputs": [
        {
          "output_type": "stream",
          "name": "stdout",
          "text": [
            "[1, 3, 2]\n"
          ]
        }
      ]
    },
    {
      "cell_type": "code",
      "source": [
        "frutas=['piña', 'mango', 'guayaba', 'chinola', 'lechoza']"
      ],
      "metadata": {
        "id": "9tJwGH7ZRDoh"
      },
      "execution_count": null,
      "outputs": []
    },
    {
      "cell_type": "code",
      "source": [
        "frutas.remove('mango)"
      ],
      
